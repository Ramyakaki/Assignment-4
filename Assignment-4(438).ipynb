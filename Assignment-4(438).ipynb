{
 "cells": [
  {
   "cell_type": "code",
   "execution_count": 1,
   "id": "00e762d9",
   "metadata": {},
   "outputs": [
    {
     "data": {
      "text/html": [
       "<div>\n",
       "<style scoped>\n",
       "    .dataframe tbody tr th:only-of-type {\n",
       "        vertical-align: middle;\n",
       "    }\n",
       "\n",
       "    .dataframe tbody tr th {\n",
       "        vertical-align: top;\n",
       "    }\n",
       "\n",
       "    .dataframe thead th {\n",
       "        text-align: right;\n",
       "    }\n",
       "</style>\n",
       "<table border=\"1\" class=\"dataframe\">\n",
       "  <thead>\n",
       "    <tr style=\"text-align: right;\">\n",
       "      <th></th>\n",
       "      <th>YEAR</th>\n",
       "      <th>Actual Rainfall: JUN</th>\n",
       "      <th>Actual Rainfall: JUL</th>\n",
       "      <th>Actual Rainfall: AUG</th>\n",
       "      <th>Actual Rainfall: SEPT</th>\n",
       "      <th>Actual Rainfall: JUN-SEPT</th>\n",
       "      <th>Departure Percentage: JUN</th>\n",
       "      <th>Departure Percentage: JUL</th>\n",
       "      <th>Departure Percentage: AUG</th>\n",
       "      <th>Departure Percentage: SEP</th>\n",
       "      <th>Departure Percentage: JUN-SEPT</th>\n",
       "    </tr>\n",
       "  </thead>\n",
       "  <tbody>\n",
       "    <tr>\n",
       "      <th>0</th>\n",
       "      <td>1901</td>\n",
       "      <td>109.1</td>\n",
       "      <td>241.4</td>\n",
       "      <td>284.2</td>\n",
       "      <td>121.9</td>\n",
       "      <td>756.6</td>\n",
       "      <td>-29.9</td>\n",
       "      <td>-16.7</td>\n",
       "      <td>11.0</td>\n",
       "      <td>-28.4</td>\n",
       "      <td>-13.1</td>\n",
       "    </tr>\n",
       "    <tr>\n",
       "      <th>1</th>\n",
       "      <td>1902</td>\n",
       "      <td>104.0</td>\n",
       "      <td>283.7</td>\n",
       "      <td>202.6</td>\n",
       "      <td>201.9</td>\n",
       "      <td>792.1</td>\n",
       "      <td>-33.6</td>\n",
       "      <td>-2.0</td>\n",
       "      <td>-21.0</td>\n",
       "      <td>18.7</td>\n",
       "      <td>-9.1</td>\n",
       "    </tr>\n",
       "    <tr>\n",
       "      <th>2</th>\n",
       "      <td>1903</td>\n",
       "      <td>114.8</td>\n",
       "      <td>293.0</td>\n",
       "      <td>279.6</td>\n",
       "      <td>204.4</td>\n",
       "      <td>891.9</td>\n",
       "      <td>-26.6</td>\n",
       "      <td>1.6</td>\n",
       "      <td>9.6</td>\n",
       "      <td>20.3</td>\n",
       "      <td>2.6</td>\n",
       "    </tr>\n",
       "    <tr>\n",
       "      <th>3</th>\n",
       "      <td>1904</td>\n",
       "      <td>158.8</td>\n",
       "      <td>266.4</td>\n",
       "      <td>210.4</td>\n",
       "      <td>129.6</td>\n",
       "      <td>765.2</td>\n",
       "      <td>2.8</td>\n",
       "      <td>-7.7</td>\n",
       "      <td>-17.4</td>\n",
       "      <td>-23.8</td>\n",
       "      <td>-11.8</td>\n",
       "    </tr>\n",
       "    <tr>\n",
       "      <th>4</th>\n",
       "      <td>1905</td>\n",
       "      <td>88.7</td>\n",
       "      <td>252.5</td>\n",
       "      <td>202.6</td>\n",
       "      <td>174.6</td>\n",
       "      <td>718.5</td>\n",
       "      <td>-43.6</td>\n",
       "      <td>-12.3</td>\n",
       "      <td>-21.2</td>\n",
       "      <td>3.2</td>\n",
       "      <td>-17.4</td>\n",
       "    </tr>\n",
       "    <tr>\n",
       "      <th>...</th>\n",
       "      <td>...</td>\n",
       "      <td>...</td>\n",
       "      <td>...</td>\n",
       "      <td>...</td>\n",
       "      <td>...</td>\n",
       "      <td>...</td>\n",
       "      <td>...</td>\n",
       "      <td>...</td>\n",
       "      <td>...</td>\n",
       "      <td>...</td>\n",
       "      <td>...</td>\n",
       "    </tr>\n",
       "    <tr>\n",
       "      <th>111</th>\n",
       "      <td>2012</td>\n",
       "      <td>117.8</td>\n",
       "      <td>250.2</td>\n",
       "      <td>262.4</td>\n",
       "      <td>193.5</td>\n",
       "      <td>823.9</td>\n",
       "      <td>-28.0</td>\n",
       "      <td>-13.4</td>\n",
       "      <td>0.5</td>\n",
       "      <td>11.5</td>\n",
       "      <td>-7.1</td>\n",
       "    </tr>\n",
       "    <tr>\n",
       "      <th>112</th>\n",
       "      <td>2013</td>\n",
       "      <td>219.8</td>\n",
       "      <td>310.0</td>\n",
       "      <td>254.7</td>\n",
       "      <td>152.7</td>\n",
       "      <td>937.2</td>\n",
       "      <td>34.4</td>\n",
       "      <td>7.3</td>\n",
       "      <td>-2.4</td>\n",
       "      <td>-12.0</td>\n",
       "      <td>5.6</td>\n",
       "    </tr>\n",
       "    <tr>\n",
       "      <th>113</th>\n",
       "      <td>2014</td>\n",
       "      <td>95.2</td>\n",
       "      <td>261.1</td>\n",
       "      <td>237.4</td>\n",
       "      <td>187.9</td>\n",
       "      <td>781.7</td>\n",
       "      <td>-41.7</td>\n",
       "      <td>-9.6</td>\n",
       "      <td>-9.0</td>\n",
       "      <td>8.3</td>\n",
       "      <td>-11.9</td>\n",
       "    </tr>\n",
       "    <tr>\n",
       "      <th>114</th>\n",
       "      <td>2015</td>\n",
       "      <td>189.0</td>\n",
       "      <td>240.8</td>\n",
       "      <td>204.2</td>\n",
       "      <td>131.8</td>\n",
       "      <td>764.9</td>\n",
       "      <td>15.5</td>\n",
       "      <td>-16.7</td>\n",
       "      <td>-21.9</td>\n",
       "      <td>-24.0</td>\n",
       "      <td>-13.8</td>\n",
       "    </tr>\n",
       "    <tr>\n",
       "      <th>115</th>\n",
       "      <td>2016</td>\n",
       "      <td>147.6</td>\n",
       "      <td>309.2</td>\n",
       "      <td>239.6</td>\n",
       "      <td>168.0</td>\n",
       "      <td>864.4</td>\n",
       "      <td>-9.8</td>\n",
       "      <td>6.9</td>\n",
       "      <td>-8.3</td>\n",
       "      <td>-3.1</td>\n",
       "      <td>-2.6</td>\n",
       "    </tr>\n",
       "  </tbody>\n",
       "</table>\n",
       "<p>116 rows × 11 columns</p>\n",
       "</div>"
      ],
      "text/plain": [
       "     YEAR  Actual Rainfall: JUN  Actual Rainfall: JUL  Actual Rainfall: AUG  \\\n",
       "0    1901                 109.1                 241.4                 284.2   \n",
       "1    1902                 104.0                 283.7                 202.6   \n",
       "2    1903                 114.8                 293.0                 279.6   \n",
       "3    1904                 158.8                 266.4                 210.4   \n",
       "4    1905                  88.7                 252.5                 202.6   \n",
       "..    ...                   ...                   ...                   ...   \n",
       "111  2012                 117.8                 250.2                 262.4   \n",
       "112  2013                 219.8                 310.0                 254.7   \n",
       "113  2014                  95.2                 261.1                 237.4   \n",
       "114  2015                 189.0                 240.8                 204.2   \n",
       "115  2016                 147.6                 309.2                 239.6   \n",
       "\n",
       "     Actual Rainfall: SEPT  Actual Rainfall: JUN-SEPT  \\\n",
       "0                    121.9                      756.6   \n",
       "1                    201.9                      792.1   \n",
       "2                    204.4                      891.9   \n",
       "3                    129.6                      765.2   \n",
       "4                    174.6                      718.5   \n",
       "..                     ...                        ...   \n",
       "111                  193.5                      823.9   \n",
       "112                  152.7                      937.2   \n",
       "113                  187.9                      781.7   \n",
       "114                  131.8                      764.9   \n",
       "115                  168.0                      864.4   \n",
       "\n",
       "     Departure Percentage: JUN  Departure Percentage: JUL  \\\n",
       "0                        -29.9                      -16.7   \n",
       "1                        -33.6                       -2.0   \n",
       "2                        -26.6                        1.6   \n",
       "3                          2.8                       -7.7   \n",
       "4                        -43.6                      -12.3   \n",
       "..                         ...                        ...   \n",
       "111                      -28.0                      -13.4   \n",
       "112                       34.4                        7.3   \n",
       "113                      -41.7                       -9.6   \n",
       "114                       15.5                      -16.7   \n",
       "115                       -9.8                        6.9   \n",
       "\n",
       "     Departure Percentage: AUG  Departure Percentage: SEP  \\\n",
       "0                         11.0                      -28.4   \n",
       "1                        -21.0                       18.7   \n",
       "2                          9.6                       20.3   \n",
       "3                        -17.4                      -23.8   \n",
       "4                        -21.2                        3.2   \n",
       "..                         ...                        ...   \n",
       "111                        0.5                       11.5   \n",
       "112                       -2.4                      -12.0   \n",
       "113                       -9.0                        8.3   \n",
       "114                      -21.9                      -24.0   \n",
       "115                       -8.3                       -3.1   \n",
       "\n",
       "     Departure Percentage: JUN-SEPT  \n",
       "0                             -13.1  \n",
       "1                              -9.1  \n",
       "2                               2.6  \n",
       "3                             -11.8  \n",
       "4                             -17.4  \n",
       "..                              ...  \n",
       "111                            -7.1  \n",
       "112                             5.6  \n",
       "113                           -11.9  \n",
       "114                           -13.8  \n",
       "115                            -2.6  \n",
       "\n",
       "[116 rows x 11 columns]"
      ]
     },
     "execution_count": 1,
     "metadata": {},
     "output_type": "execute_result"
    }
   ],
   "source": [
    "import pandas as pd\n",
    "import matplotlib.pyplot as plt\n",
    "data = pd.read_csv(\"India_rainfall.csv\")\n",
    "data"
   ]
  },
  {
   "cell_type": "code",
   "execution_count": 25,
   "id": "7e20e63d",
   "metadata": {},
   "outputs": [
    {
     "data": {
      "text/plain": [
       "{'whiskers': [<matplotlib.lines.Line2D at 0x11d65abd0d0>,\n",
       "  <matplotlib.lines.Line2D at 0x11d65abd3a0>,\n",
       "  <matplotlib.lines.Line2D at 0x11d65aca4c0>,\n",
       "  <matplotlib.lines.Line2D at 0x11d65aca790>],\n",
       " 'caps': [<matplotlib.lines.Line2D at 0x11d65abd670>,\n",
       "  <matplotlib.lines.Line2D at 0x11d65abd940>,\n",
       "  <matplotlib.lines.Line2D at 0x11d65acaa60>,\n",
       "  <matplotlib.lines.Line2D at 0x11d65acad30>],\n",
       " 'boxes': [<matplotlib.lines.Line2D at 0x11d65aacdc0>,\n",
       "  <matplotlib.lines.Line2D at 0x11d65aca1f0>],\n",
       " 'medians': [<matplotlib.lines.Line2D at 0x11d65abdc10>,\n",
       "  <matplotlib.lines.Line2D at 0x11d65ad8040>],\n",
       " 'fliers': [<matplotlib.lines.Line2D at 0x11d65abdee0>,\n",
       "  <matplotlib.lines.Line2D at 0x11d65ad8310>],\n",
       " 'means': []}"
      ]
     },
     "execution_count": 25,
     "metadata": {},
     "output_type": "execute_result"
    },
    {
     "data": {
      "image/png": "[encoded data removed]",
      "text/plain": [
       "<Figure size 640x480 with 1 Axes>"
      ]
     },
     "metadata": {},
     "output_type": "display_data"
    }
   ],
   "source": [
    "plt.boxplot(data[['Departure Percentage: AUG','Departure Percentage: JUL']])"
   ]
  },
  {
   "cell_type": "code",
   "execution_count": 26,
   "id": "791873bb",
   "metadata": {},
   "outputs": [
    {
     "name": "stdout",
     "output_type": "stream",
     "text": [
      "     Departure Percentage: AUG  Departure Percentage: JUL\n",
      "0                         11.0                      -16.7\n",
      "1                        -21.0                       -2.0\n",
      "2                          9.6                        1.6\n",
      "3                        -17.4                       -7.7\n",
      "4                        -21.2                      -12.3\n",
      "..                         ...                        ...\n",
      "111                        0.5                      -13.4\n",
      "112                       -2.4                        7.3\n",
      "113                       -9.0                       -9.6\n",
      "114                      -21.9                      -16.7\n",
      "115                       -8.3                        6.9\n",
      "\n",
      "[116 rows x 2 columns]\n"
     ]
    }
   ],
   "source": [
    "x = data[['Departure Percentage: AUG','Departure Percentage: JUL']]\n",
    "#y = data['YEAR'].values\n",
    "print(x)\n",
    "#print(y)"
   ]
  },
  {
   "cell_type": "code",
   "execution_count": 32,
   "id": "7bc17702",
   "metadata": {},
   "outputs": [
    {
     "data": {
      "text/plain": [
       "{'whiskers': [<matplotlib.lines.Line2D at 0x11d65c8d850>,\n",
       "  <matplotlib.lines.Line2D at 0x11d65c8db20>],\n",
       " 'caps': [<matplotlib.lines.Line2D at 0x11d65c8ddf0>,\n",
       "  <matplotlib.lines.Line2D at 0x11d65c99100>],\n",
       " 'boxes': [<matplotlib.lines.Line2D at 0x11d65c8d580>],\n",
       " 'medians': [<matplotlib.lines.Line2D at 0x11d65c993d0>],\n",
       " 'fliers': [<matplotlib.lines.Line2D at 0x11d65c996a0>],\n",
       " 'means': []}"
      ]
     },
     "execution_count": 32,
     "metadata": {},
     "output_type": "execute_result"
    },
    {
     "data": {
      "image/png": "[encoded data removed]",
      "text/plain": [
       "<Figure size 640x480 with 1 Axes>"
      ]
     },
     "metadata": {},
     "output_type": "display_data"
    }
   ],
   "source": [
    "from sklearn.preprocessing import StandardScaler\n",
    "scaler = StandardScaler()\n",
    "x_std = scaler.fit_transform(data[['Departure Percentage: AUG','Departure Percentage: JUL']])\n",
    "x_std\n",
    "plt.boxplot(x_std[:,0])\n",
    "#plt.boxplot(x_std[:,1])"
   ]
  },
  {
   "cell_type": "code",
   "execution_count": 33,
   "id": "b302b19a",
   "metadata": {},
   "outputs": [
    {
     "data": {
      "text/plain": [
       "{'whiskers': [<matplotlib.lines.Line2D at 0x11d65cef280>,\n",
       "  <matplotlib.lines.Line2D at 0x11d65cef550>],\n",
       " 'caps': [<matplotlib.lines.Line2D at 0x11d65cef820>,\n",
       "  <matplotlib.lines.Line2D at 0x11d65cefaf0>],\n",
       " 'boxes': [<matplotlib.lines.Line2D at 0x11d65cdff70>],\n",
       " 'medians': [<matplotlib.lines.Line2D at 0x11d65cefdc0>],\n",
       " 'fliers': [<matplotlib.lines.Line2D at 0x11d65cfd0d0>],\n",
       " 'means': []}"
      ]
     },
     "execution_count": 33,
     "metadata": {},
     "output_type": "execute_result"
    },
    {
     "data": {
      "image/png": "[encoded data removed]",
      "text/plain": [
       "<Figure size 640x480 with 1 Axes>"
      ]
     },
     "metadata": {},
     "output_type": "display_data"
    }
   ],
   "source": [
    "plt.boxplot(x_std[:,1])"
   ]
  },
  {
   "cell_type": "code",
   "execution_count": 31,
   "id": "a281251d",
   "metadata": {},
   "outputs": [
    {
     "data": {
      "text/plain": [
       "{'whiskers': [<matplotlib.lines.Line2D at 0x11d65c1d9a0>,\n",
       "  <matplotlib.lines.Line2D at 0x11d65c1dc70>,\n",
       "  <matplotlib.lines.Line2D at 0x11d65c2bdc0>,\n",
       "  <matplotlib.lines.Line2D at 0x11d65c3a0d0>],\n",
       " 'caps': [<matplotlib.lines.Line2D at 0x11d65c1df70>,\n",
       "  <matplotlib.lines.Line2D at 0x11d65c2b280>,\n",
       "  <matplotlib.lines.Line2D at 0x11d65c3a3a0>,\n",
       "  <matplotlib.lines.Line2D at 0x11d65c3a670>],\n",
       " 'boxes': [<matplotlib.lines.Line2D at 0x11d65c12550>,\n",
       "  <matplotlib.lines.Line2D at 0x11d65c2baf0>],\n",
       " 'medians': [<matplotlib.lines.Line2D at 0x11d65c2b550>,\n",
       "  <matplotlib.lines.Line2D at 0x11d65c3a940>],\n",
       " 'fliers': [<matplotlib.lines.Line2D at 0x11d65c2b820>,\n",
       "  <matplotlib.lines.Line2D at 0x11d65c3ac10>],\n",
       " 'means': []}"
      ]
     },
     "execution_count": 31,
     "metadata": {},
     "output_type": "execute_result"
    },
    {
     "data": {
      "image/png": "[encoded data removed]",
      "text/plain": [
       "<Figure size 640x480 with 1 Axes>"
      ]
     },
     "metadata": {},
     "output_type": "display_data"
    }
   ],
   "source": [
    "plt.boxplot(x_std)"
   ]
  },
  {
   "cell_type": "code",
   "execution_count": 34,
   "id": "f6bdd423",
   "metadata": {},
   "outputs": [],
   "source": [
    "#feature engineering"
   ]
  },
  {
   "cell_type": "code",
   "execution_count": 35,
   "id": "cc8637b8",
   "metadata": {},
   "outputs": [
    {
     "name": "stdout",
     "output_type": "stream",
     "text": [
      "     Name  Age  Salary\n",
      "0     ram   22   22000\n",
      "1    ramu   24   20000\n",
      "2    mani   25   13000\n",
      "3   rahul   21   15000\n",
      "4  swetha   22   14000\n"
     ]
    }
   ],
   "source": [
    "emp = {'Name': ['ram', 'ramu', 'mani', 'rahul','swetha'],\n",
    "        'Age': [22,24,25,21,22],\n",
    "        'Salary': [22000,20000,13000,15000,14000]}\n",
    "df = pd.DataFrame(emp)\n",
    "print(df)"
   ]
  },
  {
   "cell_type": "code",
   "execution_count": 36,
   "id": "cd9d755f",
   "metadata": {},
   "outputs": [
    {
     "data": {
      "text/plain": [
       "0    22000\n",
       "1    20000\n",
       "2    13000\n",
       "3    15000\n",
       "4    14000\n",
       "Name: Salary, dtype: int64"
      ]
     },
     "execution_count": 36,
     "metadata": {},
     "output_type": "execute_result"
    }
   ],
   "source": [
    "#feature selection\n",
    "df['Salary']"
   ]
  },
  {
   "cell_type": "code",
   "execution_count": 40,
   "id": "e1a3eddf",
   "metadata": {},
   "outputs": [
    {
     "name": "stdout",
     "output_type": "stream",
     "text": [
      "     Name  Age  Salary  Gender\n",
      "0     ram   22   22000  Female\n",
      "1    ramu   24   20000  Female\n",
      "2    mani   25   13000    Male\n",
      "3   rahul   21   15000    Male\n",
      "4  swetha   22   14000    Male\n"
     ]
    }
   ],
   "source": [
    "#feature construction\n",
    "df['Gender'] = ['Female', 'Female', 'Male', 'Male','Male']\n",
    "print(df)"
   ]
  },
  {
   "cell_type": "code",
   "execution_count": 41,
   "id": "8a18830a",
   "metadata": {},
   "outputs": [
    {
     "data": {
      "text/plain": [
       "'rahul'"
      ]
     },
     "execution_count": 41,
     "metadata": {},
     "output_type": "execute_result"
    }
   ],
   "source": [
    "#feature selection\n",
    "#feature extraction\n",
    "df['Name'].loc[3]"
   ]
  },
  {
   "cell_type": "code",
   "execution_count": 42,
   "id": "acad07c8",
   "metadata": {},
   "outputs": [
    {
     "name": "stdout",
     "output_type": "stream",
     "text": [
      "     Name  Age  Salary\n",
      "0     ram   22   22000\n",
      "1    ramu   24   20000\n",
      "2    mani   25   13000\n",
      "3   rahul   21   15000\n",
      "4  swetha   22   14000\n"
     ]
    }
   ],
   "source": [
    "emp = {'Name': ['ram', 'ramu', 'mani', 'rahul','swetha'],\n",
    "        'Age': [22,24,25,21,22],\n",
    "        'Salary': [22000,20000,13000,15000,14000]}\n",
    "df = pd.DataFrame(emp)\n",
    "print(df)"
   ]
  },
  {
   "cell_type": "code",
   "execution_count": 43,
   "id": "7a6c6a00",
   "metadata": {},
   "outputs": [
    {
     "name": "stdout",
     "output_type": "stream",
     "text": [
      "     Name  Age  Salary    0    1    2    3    4\n",
      "0     ram   22   22000  0.0  0.0  1.0  0.0  0.0\n",
      "1    ramu   24   20000  0.0  0.0  0.0  1.0  0.0\n",
      "2    mani   25   13000  1.0  0.0  0.0  0.0  0.0\n",
      "3   rahul   21   15000  0.0  1.0  0.0  0.0  0.0\n",
      "4  swetha   22   14000  0.0  0.0  0.0  0.0  1.0\n"
     ]
    }
   ],
   "source": [
    "from sklearn.preprocessing import OneHotEncoder\n",
    "encoder=OneHotEncoder(handle_unknown='ignore') \n",
    "encoder_df=pd.DataFrame(encoder.fit_transform(df[['Name']]).toarray())\n",
    "final_df=df.join(encoder_df)\n",
    "print(final_df)"
   ]
  },
  {
   "cell_type": "markdown",
   "id": "ac52fc60",
   "metadata": {},
   "source": [
    "Feature scaling : It is the process of normalising the range of features in a dataset.\n",
    "The 3 different scalers in the Scikit-learn library for feature scaling and they are:\n",
    "MinMaxScaler\n",
    "StandardScaler\n",
    "RobustScaler\n",
    "Normalisation, also known as min-max scaling, is a scaling technique whereby the values in a column are shifted so that they are bounded between a fixed range of 0 and 1.\n",
    "MinMaxScaler is the Scikit-learn function for normalisation.\n",
    "standardisation or Z-score normalisation is another scaling technique whereby the values in a column are rescaled so that they demonstrate the properties of a standard Gaussian distribution, that is mean = 0 and variance = 1.\n",
    "StandardScaler is the Scikit-learn function for standardisation.\n",
    "\n",
    "One hot encoding : It is a technique that we use to represent categorical variables as numerical values in a machine learning model. It allows the use of categorical variables in models that require numerical input.\n",
    "\n",
    "Feature engineering : It is the process of selecting, manipulating, and transforming raw data into features that can be used in supervised learning."
   ]
  }
 ],
 "metadata": {
  "kernelspec": {
   "display_name": "Python 3 (ipykernel)",
   "language": "python",
   "name": "python3"
  },
  "language_info": {
   "codemirror_mode": {
    "name": "ipython",
    "version": 3
   },
   "file_extension": ".py",
   "mimetype": "text/x-python",
   "name": "python",
   "nbconvert_exporter": "python",
   "pygments_lexer": "ipython3",
   "version": "3.9.13"
  }
 },
 "nbformat": 4,
 "nbformat_minor": 5
}
